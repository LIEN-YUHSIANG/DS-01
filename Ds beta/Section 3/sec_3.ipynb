{
 "cells": [
  {
   "cell_type": "markdown",
   "metadata": {},
   "source": [
    "# Section 3 notebook\n",
    "\n",
    "# Calculate the coef and intercept of mutivariate data set\n"
   ]
  },
  {
   "cell_type": "code",
   "execution_count": 1,
   "metadata": {},
   "outputs": [
    {
     "name": "stdout",
     "output_type": "stream",
     "text": [
      "[30 55 20 50]\n",
      "[[68 15]\n",
      " [78 18]\n",
      " [53 10]\n",
      " [60 18]]\n",
      "[0.0354346  4.05297392]\n",
      "-25.352242573296223\n"
     ]
    }
   ],
   "source": [
    "# Calculate the coef and intercept of mutivariate data set\n",
    "\n",
    "import numpy as np\n",
    "from sklearn.linear_model import LinearRegression\n",
    "\n",
    "array_y = np.array([30, 55, 20, 50])\n",
    "arr2d_x = np.array([[68, 15], [78, 18], [53, 10], [60, 18]])\n",
    "print(array_y)\n",
    "print(arr2d_x)\n",
    "reg = LinearRegression()\n",
    "reg.fit(arr2d_x, array_y)\n",
    "print(reg.coef_)\n",
    "print(reg.intercept_)"
   ]
  },
  {
   "cell_type": "code",
   "execution_count": 2,
   "metadata": {},
   "outputs": [
    {
     "name": "stdout",
     "output_type": "stream",
     "text": [
      "[30. 55. 20. 50.]\n",
      "[[68 15]\n",
      " [78 18]\n",
      " [53 10]\n",
      " [60 18]]\n",
      "[0.0354346  4.05297392]\n",
      "-25.352242573296223\n"
     ]
    }
   ],
   "source": [
    "import numpy as np\n",
    "from sklearn.linear_model import LinearRegression\n",
    "\n",
    "arr2d_data = np.loadtxt(\"data1.csv\", delimiter=\",\")\n",
    "array_y = arr2d_data[:, 0]\n",
    "array_x = arr2d_data[:, 1]\n",
    "print(array_y)\n",
    "print(arr2d_x)\n",
    "reg = LinearRegression()\n",
    "reg.fit(arr2d_x, array_y)\n",
    "print(reg.coef_)\n",
    "print(reg.intercept_)\n"
   ]
  },
  {
   "cell_type": "markdown",
   "metadata": {},
   "source": [
    "## Exercise"
   ]
  },
  {
   "cell_type": "code",
   "execution_count": 7,
   "metadata": {},
   "outputs": [
    {
     "name": "stdout",
     "output_type": "stream",
     "text": [
      "3.05\n",
      "-1.99\n",
      "1.01\n",
      "2.01\n"
     ]
    }
   ],
   "source": [
    "import numpy as np\n",
    "from sklearn.linear_model import LinearRegression\n",
    "\n",
    "arr2d_data = np.loadtxt(\"data2.csv\", delimiter=\",\")\n",
    "array_y = arr2d_data[:, 0]\n",
    "arr2d_x = arr2d_data[:, 1:]\n",
    "\n",
    "reg = LinearRegression()\n",
    "reg.fit(arr2d_x, array_y)\n",
    "print(f\"{reg.intercept_:.2f}\")\n",
    "print(f\"{reg.coef_[0]:.2f}\")\n",
    "print(f\"{reg.coef_[1]:.2f}\")\n",
    "print(f\"{reg.coef_[2]:.2f}\")\n"
   ]
  },
  {
   "cell_type": "markdown",
   "metadata": {},
   "source": [
    "# Converting qualitative Variables to quantitative using Python"
   ]
  },
  {
   "cell_type": "code",
   "execution_count": 5,
   "metadata": {},
   "outputs": [
    {
     "name": "stdout",
     "output_type": "stream",
     "text": [
      "['Male', 'O'] -> [0, 0, 0, 1]\n",
      "['Female', 'A'] -> [1, 1, 0, 0]\n",
      "['Female', 'AB'] -> [1, 0, 0, 0]\n",
      "['Male', 'B'] -> [0, 0, 1, 0]\n",
      "[[0, 0, 0, 1], [1, 1, 0, 0], [1, 0, 0, 0], [0, 0, 1, 0]]\n"
     ]
    }
   ],
   "source": [
    "from sklearn.datasets import load_svmlight_file\n",
    "\n",
    "\n",
    "list2d_data = [['Male', \"O\"], [\"Female\", \"A\"], [\"Female\", \"AB\"] ,[\"Male\", \"B\"]]\n",
    "list2d_x = []\n",
    "\n",
    "for list_row in list2d_data:\n",
    "    if list_row[0] == \"Male\":\n",
    "        list_x = [0]\n",
    "    else:\n",
    "        list_x = [1]\n",
    "        \n",
    "    if list_row[1] == \"A\":\n",
    "        list_x += [1, 0, 0]\n",
    "    elif list_row[1] == \"B\":\n",
    "        list_x += [0, 1, 0]\n",
    "    elif list_row[1] == \"O\":\n",
    "        list_x += [0, 0, 1]\n",
    "    else:\n",
    "        list_x += [0, 0, 0]\n",
    "    \n",
    "    print(list_row, '->', list_x)\n",
    "    list2d_x += [list_x]\n",
    "    \n",
    "print(list2d_x)"
   ]
  }
 ],
 "metadata": {
  "kernelspec": {
   "display_name": "base",
   "language": "python",
   "name": "python3"
  },
  "language_info": {
   "codemirror_mode": {
    "name": "ipython",
    "version": 3
   },
   "file_extension": ".py",
   "mimetype": "text/x-python",
   "name": "python",
   "nbconvert_exporter": "python",
   "pygments_lexer": "ipython3",
   "version": "3.11.5"
  }
 },
 "nbformat": 4,
 "nbformat_minor": 2
}
