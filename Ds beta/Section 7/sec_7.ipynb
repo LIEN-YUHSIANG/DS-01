{
 "cells": [
  {
   "cell_type": "code",
   "execution_count": 1,
   "metadata": {},
   "outputs": [
    {
     "name": "stdout",
     "output_type": "stream",
     "text": [
      "0.947\n"
     ]
    }
   ],
   "source": [
    "import numpy as np\n",
    "from pyparsing import delimited_list\n",
    "from sklearn.linear_model import LogisticRegression\n",
    "\n",
    "from distutils.log import Log\n",
    "\n",
    "arr2d_data = np.loadtxt(\"spamdata1000.csv\", delimiter=\",\")\n",
    "array_y = arr2d_data[:, 0]\n",
    "arr2d_x = arr2d_data[:, 1:]\n",
    "\n",
    "lrg = LogisticRegression(solver='lbfgs', multi_class='auto', max_iter=1000)\n",
    "lrg.fit(arr2d_x, array_y)\n",
    "\n",
    "print(lrg.score(arr2d_x, array_y))"
   ]
  }
 ],
 "metadata": {
  "kernelspec": {
   "display_name": "base",
   "language": "python",
   "name": "python3"
  },
  "language_info": {
   "codemirror_mode": {
    "name": "ipython",
    "version": 3
   },
   "file_extension": ".py",
   "mimetype": "text/x-python",
   "name": "python",
   "nbconvert_exporter": "python",
   "pygments_lexer": "ipython3",
   "version": "3.11.5"
  }
 },
 "nbformat": 4,
 "nbformat_minor": 2
}
