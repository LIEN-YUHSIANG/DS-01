{
 "cells": [
  {
   "cell_type": "code",
   "execution_count": 4,
   "metadata": {},
   "outputs": [
    {
     "name": "stdout",
     "output_type": "stream",
     "text": [
      "-1.82\n",
      "2.61\n",
      "-1.16\n",
      "-1.12\n",
      "0.05\n",
      "-0.08\n"
     ]
    }
   ],
   "source": [
    "import numpy as np\n",
    "from sklearn.linear_model import Lasso\n",
    "\n",
    "arr2d_data = np.loadtxt(\"polyreg30.csv\", delimiter=\",\")\n",
    "array_x = arr2d_data[:, 0]\n",
    "array_y = arr2d_data[:, 1]\n",
    "n = array_x.size\n",
    "sigma = 1\n",
    "list2d_maxX = []\n",
    "\n",
    "for x in array_x:\n",
    "    list2d_maxX += [[x, x**2, x**3, x**4, x**5]]\n",
    "\n",
    "arr2d_maxX = np.array(list2d_maxX)\n",
    "las = Lasso(alpha=0.01)\n",
    "las.fit(arr2d_maxX, array_y)\n",
    "\n",
    "print(f'{las.intercept_:.2f}')\n",
    "for i in range(5):\n",
    "    print(f'{las.coef_[i]:.2f}')"
   ]
  }
 ],
 "metadata": {
  "kernelspec": {
   "display_name": "base",
   "language": "python",
   "name": "python3"
  },
  "language_info": {
   "codemirror_mode": {
    "name": "ipython",
    "version": 3
   },
   "file_extension": ".py",
   "mimetype": "text/x-python",
   "name": "python",
   "nbconvert_exporter": "python",
   "pygments_lexer": "ipython3",
   "version": "3.11.5"
  }
 },
 "nbformat": 4,
 "nbformat_minor": 2
}
