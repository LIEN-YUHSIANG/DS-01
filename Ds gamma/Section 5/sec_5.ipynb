{
 "cells": [
  {
   "cell_type": "markdown",
   "metadata": {},
   "source": [
    "# Cross Validation"
   ]
  },
  {
   "cell_type": "code",
   "execution_count": 2,
   "metadata": {},
   "outputs": [
    {
     "name": "stdout",
     "output_type": "stream",
     "text": [
      "2 1.7352260677333782\n",
      "3 1.184822633476824\n",
      "4 1.6242877900671582\n",
      "5 1.5472183796750294\n",
      "2 1.4004083511308392\n",
      "3 1.0656766880731314\n",
      "4 1.3647798579077233\n",
      "5 1.4958443698898776\n"
     ]
    },
    {
     "data": {
      "image/png": "[encoded data removed]",
      "text/plain": [
       "<Figure size 640x480 with 1 Axes>"
      ]
     },
     "metadata": {},
     "output_type": "display_data"
    }
   ],
   "source": [
    "%matplotlib inline\n",
    "import numpy as np\n",
    "import matplotlib.pyplot as plt\n",
    "np.random.seed(0)\n",
    "n = 60\n",
    "sigma = 1\n",
    "beta0, beta1, beta2, beta3 = 3, -2, 0.5, 1\n",
    "array_beta = np.array([beta1, beta2, beta3])\n",
    "array_x = np.random.uniform(-1.8, 1.5, n)\n",
    "list2d_X = []\n",
    "for x in array_x:\n",
    "    list2d_X += [[x, x**2, x**3]]\n",
    "arr2d_X = np.array(list2d_X)\n",
    "array_f = np.dot(arr2d_X, array_beta) + beta0\n",
    "array_y = array_f + np.random.normal(0, sigma, n)\n",
    "plt.scatter(array_x, array_y)\n",
    "\n",
    "\n",
    "\n",
    "\n",
    "list2d_X = []\n",
    "for x in array_x:\n",
    "    list2d_X += [[x, x**2, x**3, x**4, x**5]]\n",
    "arr2d_X = np.array(list2d_X)\n",
    "\n",
    "\n",
    "\n",
    "\n",
    "from sklearn.linear_model import LinearRegression\n",
    "list_trainIndex = [i for i in range(n) if i%2!=0]\n",
    "list_testIndex = [i for i in range(n) if i%2==0]\n",
    "for k in [2, 3, 4, 5]:\n",
    "    reg = LinearRegression()\n",
    "    reg.fit(arr2d_X[list_trainIndex, 0:k], array_y[list_trainIndex])  \n",
    "    array_yhat = reg.predict(arr2d_X[list_testIndex, 0:k])    \n",
    "    loss = sum((array_y[list_testIndex]-array_yhat)**2)/(n/2)\n",
    "    print(k, loss)\n",
    "\n",
    "\n",
    "\n",
    "\n",
    "Kfold = 4\n",
    "for k in [2, 3, 4, 5]:\n",
    "    reg = LinearRegression()\n",
    "    list_loss = []\n",
    "    for amari in range(Kfold):\n",
    "        list_trainIndex = [i for i in range(n) if i%Kfold!=amari]\n",
    "        list_testIndex = [i for i in range(n) if i%Kfold==amari]       \n",
    "        reg.fit(arr2d_X[list_trainIndex, 0:k], array_y[list_trainIndex])\n",
    "        array_yhat = reg.predict(arr2d_X[list_testIndex, 0:k])\n",
    "        list_loss += [sum((array_y[list_testIndex]-array_yhat)**2)/(n/Kfold)]\n",
    "    print(k, np.mean(list_loss))"
   ]
  }
 ],
 "metadata": {
  "kernelspec": {
   "display_name": "base",
   "language": "python",
   "name": "python3"
  },
  "language_info": {
   "codemirror_mode": {
    "name": "ipython",
    "version": 3
   },
   "file_extension": ".py",
   "mimetype": "text/x-python",
   "name": "python",
   "nbconvert_exporter": "python",
   "pygments_lexer": "ipython3",
   "version": "3.11.5"
  }
 },
 "nbformat": 4,
 "nbformat_minor": 2
}
