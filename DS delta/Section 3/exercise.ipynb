{
 "cells": [
  {
   "cell_type": "code",
   "execution_count": 2,
   "metadata": {},
   "outputs": [
    {
     "name": "stdout",
     "output_type": "stream",
     "text": [
      "[[-0.707 -0.707]]\n",
      "1.2499999999999996\n"
     ]
    }
   ],
   "source": [
    "import numpy as np\n",
    "from sklearn.decomposition import PCA\n",
    "arr2d_x = np.array([[-1, -1], [-1, 0], [0, 1], [1, 1]])\n",
    "\n",
    "pca = PCA(n_components=1)\n",
    "pca.fit(arr2d_x)\n",
    "arr2d_score = pca.transform(arr2d_x)\n",
    "np.set_printoptions(precision=3)\n",
    "print(pca.components_)\n",
    "print(np.var(arr2d_score))"
   ]
  }
 ],
 "metadata": {
  "kernelspec": {
   "display_name": "base",
   "language": "python",
   "name": "python3"
  },
  "language_info": {
   "codemirror_mode": {
    "name": "ipython",
    "version": 3
   },
   "file_extension": ".py",
   "mimetype": "text/x-python",
   "name": "python",
   "nbconvert_exporter": "python",
   "pygments_lexer": "ipython3",
   "version": "3.11.5"
  }
 },
 "nbformat": 4,
 "nbformat_minor": 2
}
