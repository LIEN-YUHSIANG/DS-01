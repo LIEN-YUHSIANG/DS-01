{
 "cells": [
  {
   "cell_type": "code",
   "execution_count": 2,
   "metadata": {},
   "outputs": [
    {
     "name": "stdout",
     "output_type": "stream",
     "text": [
      "1.00\n"
     ]
    }
   ],
   "source": [
    "import pandas as pd \n",
    "from sklearn.tree import DecisionTreeClassifier\n",
    "\n",
    "df = pd.read_csv('diagnosis.csv')\n",
    "df_data = pd.get_dummies(df, drop_first=True)\n",
    "\n",
    "sr_y = df_data.iloc[:, 6]\n",
    "df_x = df_data.iloc[:, :6]\n",
    "\n",
    "dtc = DecisionTreeClassifier(max_depth=3)\n",
    "dtc.fit(df_x, sr_y)\n",
    "print(\"{0:.2f}\".format(dtc.score(df_x, sr_y)))\n"
   ]
  }
 ],
 "metadata": {
  "kernelspec": {
   "display_name": "base",
   "language": "python",
   "name": "python3"
  },
  "language_info": {
   "codemirror_mode": {
    "name": "ipython",
    "version": 3
   },
   "file_extension": ".py",
   "mimetype": "text/x-python",
   "name": "python",
   "nbconvert_exporter": "python",
   "pygments_lexer": "ipython3",
   "version": "3.11.5"
  }
 },
 "nbformat": 4,
 "nbformat_minor": 2
}
